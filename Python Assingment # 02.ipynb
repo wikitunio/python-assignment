{
 "cells": [
  {
   "cell_type": "code",
   "execution_count": 1,
   "metadata": {},
   "outputs": [
    {
     "name": "stdout",
     "output_type": "stream",
     "text": [
      "enter your percentage%76\n",
      "A\n"
     ]
    }
   ],
   "source": [
    "per = int(input(\"enter your percentage%\"));\n",
    "if per >= 80 and per <= 100:\n",
    "    print(\"A+\")\n",
    "elif per >= 70 and per < 80:\n",
    "    print(\"A\")\n",
    "elif per >= 60 and per < 70:\n",
    "    print(\"B\")\n",
    "elif per >= 50 and per < 60:\n",
    "    print(\"C\")\n",
    "elif per >= 40 and per < 50:\n",
    "    print(\"D\")\n",
    "elif per >= 33 and per < 40:\n",
    "    print(\"E\")\n",
    "elif per >= 0 and per < 33:\n",
    "    print(\"FAIL\")\n",
    "else :\n",
    "    print(\"you have given inappoperiate percentage\")"
   ]
  },
  {
   "cell_type": "code",
   "execution_count": 2,
   "metadata": {},
   "outputs": [
    {
     "name": "stdout",
     "output_type": "stream",
     "text": [
      "enter the number4\n",
      "EVEN\n"
     ]
    }
   ],
   "source": [
    "num = int(input(\"enter the number\"))\n",
    "mode = num % 2\n",
    "if mode > 0:\n",
    "    print(\"ODD\")\n",
    "else:\n",
    "    print(\"EVEN\")"
   ]
  },
  {
   "cell_type": "code",
   "execution_count": 7,
   "metadata": {},
   "outputs": [
    {
     "name": "stdout",
     "output_type": "stream",
     "text": [
      "6\n"
     ]
    }
   ],
   "source": [
    "L = [\"ImranKhan\",\"FazalUrRahman\",\"NawazShareef\",\"ShahbazShareef\",\"AsifZardari\",\"BilawalBhutto\"]\n",
    "length_of_list = len(L)\n",
    "print(length_of_list)"
   ]
  },
  {
   "cell_type": "code",
   "execution_count": null,
   "metadata": {},
   "outputs": [],
   "source": []
  },
  {
   "cell_type": "code",
   "execution_count": 16,
   "metadata": {},
   "outputs": [
    {
     "name": "stdout",
     "output_type": "stream",
     "text": [
      "Sum of all elements in given list: 18\n"
     ]
    }
   ],
   "source": [
    "total = 0\n",
    "list0 = [1,3,5,9]\n",
    "for ele in range(0, len(list0)):\n",
    "    total = total + list0[ele]\n",
    "print(\"Sum of all elements in given list:\", total)"
   ]
  },
  {
   "cell_type": "code",
   "execution_count": 12,
   "metadata": {},
   "outputs": [
    {
     "name": "stdout",
     "output_type": "stream",
     "text": [
      "Largest element is: 1000\n"
     ]
    }
   ],
   "source": [
    "list1 = [10,30,20,40,50,70,80,100,130,1000]\n",
    "list1.sort()\n",
    "print(\"Largest element is:\", list1[-1])"
   ]
  },
  {
   "cell_type": "code",
   "execution_count": 27,
   "metadata": {},
   "outputs": [
    {
     "name": "stdout",
     "output_type": "stream",
     "text": [
      "[1, 1, 2, 3]\n"
     ]
    }
   ],
   "source": [
    "a = [1,1,2,3,5,8,13,21,34,55,89]\n",
    "u=[x for x in a if x<5]\n",
    "print(u)"
   ]
  },
  {
   "cell_type": "code",
   "execution_count": null,
   "metadata": {},
   "outputs": [],
   "source": []
  }
 ],
 "metadata": {
  "kernelspec": {
   "display_name": "Python 3",
   "language": "python",
   "name": "python3"
  },
  "language_info": {
   "codemirror_mode": {
    "name": "ipython",
    "version": 3
   },
   "file_extension": ".py",
   "mimetype": "text/x-python",
   "name": "python",
   "nbconvert_exporter": "python",
   "pygments_lexer": "ipython3",
   "version": "3.7.4"
  }
 },
 "nbformat": 4,
 "nbformat_minor": 2
}
