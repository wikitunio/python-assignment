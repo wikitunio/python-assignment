{
 "cells": [
  {
   "cell_type": "code",
   "execution_count": null,
   "metadata": {},
   "outputs": [],
   "source": [
    "#QUESTION NO 01\n",
    "\n",
    "#Object-oriented programming (OOP) is a software programming model constructed around objects. This model compartmentalizes data into objects (data fields) and describes object contents and behavior through the declaration of classes (methods).\n"
   ]
  },
  {
   "cell_type": "code",
   "execution_count": null,
   "metadata": {},
   "outputs": [],
   "source": [
    "#QUESTION NO 02\n",
    "\n",
    "#BENEFITS OF OOP\n",
    "\n",
    "1 = \"Improved software-development productivity\"\n",
    "    #Object-oriented programming is modular, as it provides separation of duties in object-based program development. It is also extensible, as objects can be extended to include new attributes and behaviors. Objects can also be reused within an across applications. Because of these three factors – modularity, extensibility, and reusability – object-oriented programming provides improved software-development productivity over traditional procedure-based programming techniques.\n",
    "\n",
    "2 = \"Improved software maintainability\"\n",
    "    #For the reasons mentioned above, objectoriented software is also easier to maintain. Since the design is modular, part of the system can be updated in case of issues without a need to make large-scale changes.\n",
    "\n",
    "3 = \"Faster development\"\n",
    "    #Reuse enables faster development. Object-oriented programming languages come with rich libraries of objects, and code developed during projects is also reusable in future projects.\n",
    "\n",
    "4 = \"Lower cost of development\"\n",
    "    #The reuse of software also lowers the cost of development. Typically, more effort is put into the object-oriented analysis and design, which lowers the overall cost of development.\n",
    "\n",
    "5 = \"Higher-quality software\"\n",
    "#Faster development of software and lower cost of development allows more time and resources to be used in the verification of the software. Although quality is dependent upon the experience of the teams, objectoriented programming tends to result in higher-quality software."
   ]
  },
  {
   "cell_type": "code",
   "execution_count": null,
   "metadata": {},
   "outputs": [],
   "source": [
    "#QUESTION NO 03\n",
    "#DIFFERENCE BETWEEN FUNCTION AND METHOD\n",
    "\n",
    "#METRHOD\n",
    "1 \"Method is called by its name, but it is associated to an object (dependent).\"\n",
    "2 \"A method is implicitly passed the object on which it is invoked.\"\n",
    "3 \"It may or may not return any data.\"\n",
    "4 \"A method can operate on the data (instance variables) that is contained by the corresponding class.\"\n",
    "\n",
    "#FUNCTION\n",
    "1 \"Function is block of code that is also called by its name. (independent)\"\n",
    "2 \"The function can have different parameters or may not have any at all. If any data (parameters) are passed, they are passed explicitly.\"\n",
    "3 \"It may or may not return any data.\"\n",
    "4 \"Function does not deal with Class and its instance concept.\" \n",
    "\n",
    "#Difference between method and function\n",
    "1 \"Simply, function and method both look similar as they perform in almost similar way, but the key difference is the concept of ‘Class and its Object‘.\n",
    "\"\n",
    "2 \"Functions can be called only by its name, as it is defined independently. But methods can’t be called by its name only, we need to invoke the class by a reference of that class in which it is defined, i.e. method is defined within a class and hence they are dependent on that class.\"\n"
   ]
  },
  {
   "cell_type": "code",
   "execution_count": null,
   "metadata": {},
   "outputs": [],
   "source": [
    "#QUESTION NO 04\n",
    "#DEFINE THE TERMS \n",
    "\n",
    "#CLASS \n",
    "\" A class is a template definition of the method(s) and variable(s) in a particular kind of object . Thus, an object is a specific instance of a class; it contains real values instead of variables.\"\n",
    "\n",
    "#OBJECT\n",
    "\" Objects are the things you think about first in designing a program and they are also the units of code that are eventually derived from the process. Each object is an instance of a particular class or subclass with the class's own methods or procedures and data variables.\"\n",
    "\n",
    "#Attribute\n",
    "\"In Object-oriented programming, classes and objects have attributes. Attributes are data stored inside a class or instance and represent the state or quality of the class or instance. In short, attributes store information about the instance. Also, attributes should not be confused with class functions also known as methods. One can think of attributes as noun or adjective, while methods are the verb of the class.\"\n",
    "\n",
    "#Behavior\n",
    "\"The behavior of an object is defined by its methods, which are the functions and subroutines defined within the object class. Without class methods, a class would simply be a structure.\""
   ]
  },
  {
   "cell_type": "code",
   "execution_count": null,
   "metadata": {},
   "outputs": [],
   "source": [
    "#QUESTION NO 05\n",
    "\n",
    "class Car():\n",
    "    def __init__(self, car_name, car_model, car_colour, car_price, car_year):\n",
    "        self.name = car_name\n",
    "        self.model = car_model\n",
    "        self.colour = car_colour\n",
    "        self.price = car_price\n",
    "        self.year = car_year\n",
    "    @classmethod\n",
    "    def "
   ]
  }
 ],
 "metadata": {
  "kernelspec": {
   "display_name": "Python 3",
   "language": "python",
   "name": "python3"
  },
  "language_info": {
   "codemirror_mode": {
    "name": "ipython",
    "version": 3
   },
   "file_extension": ".py",
   "mimetype": "text/x-python",
   "name": "python",
   "nbconvert_exporter": "python",
   "pygments_lexer": "ipython3",
   "version": "3.7.4"
  }
 },
 "nbformat": 4,
 "nbformat_minor": 2
}
