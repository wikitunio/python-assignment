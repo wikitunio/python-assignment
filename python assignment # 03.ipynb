{
 "cells": [
  {
   "cell_type": "code",
   "execution_count": 1,
   "metadata": {},
   "outputs": [
    {
     "name": "stdout",
     "output_type": "stream",
     "text": [
      " A for Addition\n",
      " S for Substraction\n",
      " M for Multiplication\n",
      " D for Division\n",
      " P for Power\n",
      "Please enter operator\tA\n",
      "Please enter value 1\t123\n",
      "Please enter value 2\t123\n",
      "246  Answer\n"
     ]
    }
   ],
   "source": [
    "print(\" A for Addition\\n S for Substraction\\n M for Multiplication\\n D for Division\\n P for Power\")\n",
    "operator = input(\"Please enter operator\\t\").strip()\n",
    "if operator.upper() == \"P\":\n",
    "    a = int(input(\"Please enter Base\\t\"))\n",
    "    b = int(input(\"Please enter Power\\t\"))\n",
    "    val = pow(a, b)\n",
    "    print(val, \" Answer\")\n",
    "else:\n",
    "    x = int(input(\"Please enter value 1\\t\").strip())\n",
    "    y = int(input(\"Please enter value 2\\t\").strip())\n",
    "    if operator.upper() == \"A\" :\n",
    "        val = x + y\n",
    "        print(val, \" Answer\")\n",
    "    elif operator.upper() == \"M\" :\n",
    "        val = x * y\n",
    "        print(val, \" Answer\")\n",
    "    elif operator.upper() == \"S\" :\n",
    "        val = x - y\n",
    "        print(val, \" Answer\")\n",
    "    elif operator.upper() == \"D\" :\n",
    "        val = x / y\n",
    "        print(val, \" Answer\")\n",
    "    elif operator.upper() == \"P\" :\n",
    "        val = pow(x, y)\n",
    "        print(val, \" Answer\")\n",
    "    else :\n",
    "        \"Please enter Valid Operator\""
   ]
  },
  {
   "cell_type": "code",
   "execution_count": 2,
   "metadata": {},
   "outputs": [
    {
     "name": "stdout",
     "output_type": "stream",
     "text": [
      "23\n",
      "34\n",
      "28\n"
     ]
    }
   ],
   "source": [
    "lst = [\"a\", \"b\", 23, \"e\", 34, \"y\", 28]\n",
    "for i in lst :\n",
    "    if type(i) == int:\n",
    "        print(i)"
   ]
  },
  {
   "cell_type": "code",
   "execution_count": 3,
   "metadata": {},
   "outputs": [
    {
     "name": "stdout",
     "output_type": "stream",
     "text": [
      "{'Ali': 19, 'Asim': 18, 'Suhail': 22, 'Buxal': 24, 'Raja': 24}\n"
     ]
    }
   ],
   "source": [
    "x = {\"Ali\": 19 , \"Asim\" : 18, \"Suhail\": 22, \"Buxal\" : 24}\n",
    "x[\"Raja\"] = 24\n",
    "print(x)"
   ]
  },
  {
   "cell_type": "code",
   "execution_count": 4,
   "metadata": {},
   "outputs": [
    {
     "name": "stdout",
     "output_type": "stream",
     "text": [
      "310\n"
     ]
    }
   ],
   "source": [
    "dic = {\"english\" : 78, \"math\" : 87, \"biology\" : 67, \"chemistry\" : 78}\n",
    "y = 0\n",
    "for val in dic.values() :\n",
    "    y = val + y\n",
    "print(y)"
   ]
  },
  {
   "cell_type": "code",
   "execution_count": 5,
   "metadata": {},
   "outputs": [],
   "source": [
    "lst = [\"ali\", \"asim\", \"ali\", \"suhail\", \"asim\", 54, 65, 32, 54]\n",
    "u = []"
   ]
  },
  {
   "cell_type": "code",
   "execution_count": 6,
   "metadata": {},
   "outputs": [
    {
     "name": "stdout",
     "output_type": "stream",
     "text": [
      "ali\n",
      "asim\n",
      "54\n"
     ]
    }
   ],
   "source": [
    "for i in lst:\n",
    "    if i not in u:\n",
    "        u.append(i)\n",
    "    else:\n",
    "        print(i)"
   ]
  },
  {
   "cell_type": "code",
   "execution_count": 7,
   "metadata": {},
   "outputs": [
    {
     "name": "stdout",
     "output_type": "stream",
     "text": [
      "Please enter key\tali\n"
     ]
    },
    {
     "data": {
      "text/plain": [
       "True"
      ]
     },
     "execution_count": 7,
     "metadata": {},
     "output_type": "execute_result"
    }
   ],
   "source": [
    "d = {\"ali\": \"val1\", \"asim\": \"val2\"}\n",
    "y = input(\"Please enter key\\t\")\n",
    "y in d.keys()"
   ]
  },
  {
   "cell_type": "code",
   "execution_count": null,
   "metadata": {},
   "outputs": [],
   "source": []
  },
  {
   "cell_type": "code",
   "execution_count": null,
   "metadata": {},
   "outputs": [],
   "source": []
  }
 ],
 "metadata": {
  "kernelspec": {
   "display_name": "Python 3",
   "language": "python",
   "name": "python3"
  },
  "language_info": {
   "codemirror_mode": {
    "name": "ipython",
    "version": 3
   },
   "file_extension": ".py",
   "mimetype": "text/x-python",
   "name": "python",
   "nbconvert_exporter": "python",
   "pygments_lexer": "ipython3",
   "version": "3.7.3"
  }
 },
 "nbformat": 4,
 "nbformat_minor": 2
}
